{
 "cells": [
  {
   "cell_type": "markdown",
   "id": "054076ac-970e-463c-a4f5-596eab925c74",
   "metadata": {},
   "source": [
    "# World Checklist of Vascular Plants Dataset Exploration\n",
    "\n",
    "Exploration of the WCVP dataset:\n",
    "\n",
    "* DWCA\n",
    "  - Distribution\n",
    "  - Taxonomy"
   ]
  },
  {
   "cell_type": "markdown",
   "id": "30f12b10-d488-42fd-99da-cf7188041a00",
   "metadata": {},
   "source": [
    "## Setup and Loading"
   ]
  },
  {
   "cell_type": "code",
   "execution_count": 1,
   "id": "3630c715-8a1e-473c-97ee-32c83fa11914",
   "metadata": {},
   "outputs": [],
   "source": [
    "import pandas as pd\n",
    "import matplotlib.pyplot as plt\n",
    "\n",
    "pd.set_option('display.max_columns', None)\n",
    "pd.set_option('display.max_rows', None)\n",
    "pd.set_option('display.max_colwidth', None)"
   ]
  },
  {
   "cell_type": "markdown",
   "id": "da9d918e-db03-4581-a927-db76ce2288fd",
   "metadata": {},
   "source": [
    "### Load Distribution File"
   ]
  },
  {
   "cell_type": "code",
   "execution_count": 2,
   "id": "7ff1f6c2-4508-4dfa-9819-dd41e3d9ff4f",
   "metadata": {},
   "outputs": [
    {
     "name": "stdout",
     "output_type": "stream",
     "text": [
      "dfdist columns:\n",
      "* coreid - int64\n",
      "* locality - object\n",
      "* establishmentmeans - object\n",
      "* locationid - object\n",
      "* occurrencestatus - object\n",
      "* threatstatus - object\n"
     ]
    },
    {
     "data": {
      "text/html": [
       "<div>\n",
       "<style scoped>\n",
       "    .dataframe tbody tr th:only-of-type {\n",
       "        vertical-align: middle;\n",
       "    }\n",
       "\n",
       "    .dataframe tbody tr th {\n",
       "        vertical-align: top;\n",
       "    }\n",
       "\n",
       "    .dataframe thead th {\n",
       "        text-align: right;\n",
       "    }\n",
       "</style>\n",
       "<table border=\"1\" class=\"dataframe\">\n",
       "  <thead>\n",
       "    <tr style=\"text-align: right;\">\n",
       "      <th></th>\n",
       "      <th>coreid</th>\n",
       "      <th>locality</th>\n",
       "      <th>establishmentmeans</th>\n",
       "      <th>locationid</th>\n",
       "      <th>occurrencestatus</th>\n",
       "      <th>threatstatus</th>\n",
       "    </tr>\n",
       "  </thead>\n",
       "  <tbody>\n",
       "    <tr>\n",
       "      <th>0</th>\n",
       "      <td>1</td>\n",
       "      <td>Argentina Northeast</td>\n",
       "      <td>NaN</td>\n",
       "      <td>TDWG:AGE</td>\n",
       "      <td>NaN</td>\n",
       "      <td>NaN</td>\n",
       "    </tr>\n",
       "    <tr>\n",
       "      <th>1</th>\n",
       "      <td>1</td>\n",
       "      <td>Argentina Northwest</td>\n",
       "      <td>NaN</td>\n",
       "      <td>TDWG:AGW</td>\n",
       "      <td>NaN</td>\n",
       "      <td>NaN</td>\n",
       "    </tr>\n",
       "  </tbody>\n",
       "</table>\n",
       "</div>"
      ],
      "text/plain": [
       "   coreid             locality establishmentmeans locationid occurrencestatus  \\\n",
       "0       1  Argentina Northeast                NaN   TDWG:AGE              NaN   \n",
       "1       1  Argentina Northwest                NaN   TDWG:AGW              NaN   \n",
       "\n",
       "  threatstatus  \n",
       "0          NaN  \n",
       "1          NaN  "
      ]
     },
     "execution_count": 2,
     "metadata": {},
     "output_type": "execute_result"
    }
   ],
   "source": [
    "dfdist = pd.read_csv('wcvp_distribution.csv', sep='|')\n",
    "print('dfdist columns:')\n",
    "for column_name, dtype in zip(dfdist.columns, dfdist.dtypes):\n",
    "    print(f'* {column_name} - {dtype}')\n",
    "dfdist[:2]"
   ]
  },
  {
   "cell_type": "markdown",
   "id": "febcc657-979f-46ac-a5e0-f980712664aa",
   "metadata": {},
   "source": [
    "### Load Taxonomy File"
   ]
  },
  {
   "cell_type": "code",
   "execution_count": 3,
   "id": "054bdbf1-190e-4927-8b9d-cc7f2d30fa54",
   "metadata": {},
   "outputs": [
    {
     "name": "stdout",
     "output_type": "stream",
     "text": [
      "dftaxon columns:\n",
      "* taxonid - int64\n",
      "* family - object\n",
      "* genus - object\n",
      "* specificepithet - object\n",
      "* infraspecificepithet - object\n",
      "* scientificname - object\n",
      "* scientfiicnameauthorship - object\n",
      "* taxonrank - object\n",
      "* taxonomicstatus - object\n",
      "* acceptednameusageid - float64\n",
      "* parentnameusageid - float64\n",
      "* originalnameusageid - float64\n",
      "* namepublishedin - object\n",
      "* nomenclaturalstatus - object\n",
      "* taxonremarks - object\n",
      "* scientificnameid - object\n",
      "* dynamicproperties - object\n",
      "* references - object\n",
      "\n"
     ]
    },
    {
     "data": {
      "text/html": [
       "<div>\n",
       "<style scoped>\n",
       "    .dataframe tbody tr th:only-of-type {\n",
       "        vertical-align: middle;\n",
       "    }\n",
       "\n",
       "    .dataframe tbody tr th {\n",
       "        vertical-align: top;\n",
       "    }\n",
       "\n",
       "    .dataframe thead th {\n",
       "        text-align: right;\n",
       "    }\n",
       "</style>\n",
       "<table border=\"1\" class=\"dataframe\">\n",
       "  <thead>\n",
       "    <tr style=\"text-align: right;\">\n",
       "      <th></th>\n",
       "      <th>taxonid</th>\n",
       "      <th>family</th>\n",
       "      <th>genus</th>\n",
       "      <th>specificepithet</th>\n",
       "      <th>infraspecificepithet</th>\n",
       "      <th>scientificname</th>\n",
       "      <th>scientfiicnameauthorship</th>\n",
       "      <th>taxonrank</th>\n",
       "      <th>taxonomicstatus</th>\n",
       "      <th>acceptednameusageid</th>\n",
       "      <th>parentnameusageid</th>\n",
       "      <th>originalnameusageid</th>\n",
       "      <th>namepublishedin</th>\n",
       "      <th>nomenclaturalstatus</th>\n",
       "      <th>taxonremarks</th>\n",
       "      <th>scientificnameid</th>\n",
       "      <th>dynamicproperties</th>\n",
       "      <th>references</th>\n",
       "    </tr>\n",
       "  </thead>\n",
       "  <tbody>\n",
       "    <tr>\n",
       "      <th>0</th>\n",
       "      <td>3152012</td>\n",
       "      <td>Polypodiaceae</td>\n",
       "      <td>Elaphoglossum</td>\n",
       "      <td>discolor</td>\n",
       "      <td>NaN</td>\n",
       "      <td>Elaphoglossum discolor</td>\n",
       "      <td>(Kuhn) C.Chr.</td>\n",
       "      <td>Species</td>\n",
       "      <td>Accepted</td>\n",
       "      <td>3152012.0</td>\n",
       "      <td>3189746.0</td>\n",
       "      <td>3179959.0</td>\n",
       "      <td>Index Filic.: 306 (1905)</td>\n",
       "      <td>NaN</td>\n",
       "      <td>S. Trop. America</td>\n",
       "      <td>ipni:89115-2</td>\n",
       "      <td>{\"powoid\":\"89115-2\",\"lifeform\":\"epiphyte\",\"climate\":\"wet tropical\",\"homotypicsynonym\":\"\",\"hybridformula\":\"\",\"reviewed\":\"N\"}</td>\n",
       "      <td>https://powo.science.kew.org/taxon/urn:lsid:ipni.org:names:89115-2</td>\n",
       "    </tr>\n",
       "    <tr>\n",
       "      <th>1</th>\n",
       "      <td>2741565</td>\n",
       "      <td>Crassulaceae</td>\n",
       "      <td>Crassula</td>\n",
       "      <td>capensis</td>\n",
       "      <td>NaN</td>\n",
       "      <td>Crassula capensis</td>\n",
       "      <td>(L.) Baill.</td>\n",
       "      <td>Species</td>\n",
       "      <td>Accepted</td>\n",
       "      <td>2741565.0</td>\n",
       "      <td>2741460.0</td>\n",
       "      <td>2490224.0</td>\n",
       "      <td>Hist. Pl. 3: 312 (1871)</td>\n",
       "      <td>NaN</td>\n",
       "      <td>Cape Prov.</td>\n",
       "      <td>ipni:273023-1</td>\n",
       "      <td>{\"powoid\":\"273023-1\",\"lifeform\":\"succulent tuberous geophyte\",\"climate\":\"subtropical\",\"homotypicsynonym\":\"\",\"hybridformula\":\"\",\"reviewed\":\"N\"}</td>\n",
       "      <td>https://powo.science.kew.org/taxon/urn:lsid:ipni.org:names:273023-1</td>\n",
       "    </tr>\n",
       "  </tbody>\n",
       "</table>\n",
       "</div>"
      ],
      "text/plain": [
       "   taxonid         family          genus specificepithet infraspecificepithet  \\\n",
       "0  3152012  Polypodiaceae  Elaphoglossum        discolor                  NaN   \n",
       "1  2741565   Crassulaceae       Crassula        capensis                  NaN   \n",
       "\n",
       "           scientificname scientfiicnameauthorship taxonrank taxonomicstatus  \\\n",
       "0  Elaphoglossum discolor            (Kuhn) C.Chr.   Species        Accepted   \n",
       "1       Crassula capensis              (L.) Baill.   Species        Accepted   \n",
       "\n",
       "   acceptednameusageid  parentnameusageid  originalnameusageid  \\\n",
       "0            3152012.0          3189746.0            3179959.0   \n",
       "1            2741565.0          2741460.0            2490224.0   \n",
       "\n",
       "            namepublishedin nomenclaturalstatus      taxonremarks  \\\n",
       "0  Index Filic.: 306 (1905)                 NaN  S. Trop. America   \n",
       "1   Hist. Pl. 3: 312 (1871)                 NaN        Cape Prov.   \n",
       "\n",
       "  scientificnameid  \\\n",
       "0     ipni:89115-2   \n",
       "1    ipni:273023-1   \n",
       "\n",
       "                                                                                                                                dynamicproperties  \\\n",
       "0                     {\"powoid\":\"89115-2\",\"lifeform\":\"epiphyte\",\"climate\":\"wet tropical\",\"homotypicsynonym\":\"\",\"hybridformula\":\"\",\"reviewed\":\"N\"}   \n",
       "1  {\"powoid\":\"273023-1\",\"lifeform\":\"succulent tuberous geophyte\",\"climate\":\"subtropical\",\"homotypicsynonym\":\"\",\"hybridformula\":\"\",\"reviewed\":\"N\"}   \n",
       "\n",
       "                                                            references  \n",
       "0   https://powo.science.kew.org/taxon/urn:lsid:ipni.org:names:89115-2  \n",
       "1  https://powo.science.kew.org/taxon/urn:lsid:ipni.org:names:273023-1  "
      ]
     },
     "execution_count": 3,
     "metadata": {},
     "output_type": "execute_result"
    }
   ],
   "source": [
    "dftaxon = pd.read_csv('wcvp_taxon.csv', sep='|')\n",
    "dftaxon = dftaxon.rename(\n",
    "    columns={\n",
    "        'scientfiicname': 'scientificname',\n",
    "        'scientfiicauthorname': 'scientificauthorname',\n",
    "    },\n",
    ")\n",
    "\n",
    "print('dftaxon columns:')\n",
    "for column_name, dtype in zip(dftaxon.columns, dftaxon.dtypes):\n",
    "    print(f'* {column_name} - {dtype}')\n",
    "print()\n",
    "\n",
    "dftaxon[:2]"
   ]
  },
  {
   "cell_type": "markdown",
   "id": "e502187d-571e-45a5-893c-1d271ab3c9fa",
   "metadata": {},
   "source": [
    "## Exploration of Taxonomy Dataset"
   ]
  },
  {
   "cell_type": "markdown",
   "id": "ddc5d64f-ac64-441f-b92d-2dc34b109dc3",
   "metadata": {},
   "source": [
    "**What are the possible values of `taxonrank`?**"
   ]
  },
  {
   "cell_type": "code",
   "execution_count": 4,
   "id": "a4501dff-4af3-48ab-a962-6f4bca3f6cd1",
   "metadata": {},
   "outputs": [
    {
     "data": {
      "text/plain": [
       "taxonrank\n",
       "Species        1036226\n",
       "Variety         227155\n",
       "Subspecies       72642\n",
       "Form             42815\n",
       "Genus            41869\n",
       "Subvariety        3280\n",
       "proles            2335\n",
       "lusus              637\n",
       "Subform            624\n",
       "nothosubsp.        519\n",
       "microgène          364\n",
       "Convariety         181\n",
       "nothovar.          115\n",
       "monstr.             89\n",
       "grex                29\n",
       "stirps              18\n",
       "subproles           18\n",
       "provar.             16\n",
       "nothof.             15\n",
       "psp.                 6\n",
       "modif.               6\n",
       "mut.                 5\n",
       "sublusus             4\n",
       "subspecioid          2\n",
       "nid                  1\n",
       "agamosp.             1\n",
       "microf.              1\n",
       "positio              1\n",
       "micromorphe          1\n",
       "group                1\n",
       "ecas.                1\n",
       "Name: count, dtype: int64"
      ]
     },
     "execution_count": 4,
     "metadata": {},
     "output_type": "execute_result"
    }
   ],
   "source": [
    "dftaxon['taxonrank'].value_counts()"
   ]
  },
  {
   "cell_type": "markdown",
   "id": "4a86047b-6024-4818-aed2-eb3a68059d33",
   "metadata": {},
   "source": [
    "We are primarily interested in the taxonomic rank `Species` and any ranks which are more specific.\n",
    "We assume that the plants listed with more specific taxonomic ranks are in the same species and can thus interbreed if the species is fertile.\n",
    "The following values for `taxonrank` are of interest:\n",
    "\n",
    "* `Species`\n",
    "* `Subspecies`\n",
    "* `Variety`\n",
    "* `Subvariety`\n",
    "* `Form`\n",
    "* `Subform`"
   ]
  },
  {
   "cell_type": "markdown",
   "id": "8d7dd71c-145a-46a0-b70d-3c70cc6ed9e9",
   "metadata": {},
   "source": [
    "**What are the possible values of `taxonomicstatus`?**"
   ]
  },
  {
   "cell_type": "code",
   "execution_count": 5,
   "id": "f89dad4b-04a1-42d6-8690-98c93c161144",
   "metadata": {},
   "outputs": [
    {
     "data": {
      "text/plain": [
       "taxonomicstatus\n",
       "Synonym                   870674\n",
       "Accepted                  428941\n",
       "Illegitimate               47567\n",
       "Unplaced                   36712\n",
       "Invalid                    35650\n",
       "Artificial Hybrid           4231\n",
       "Provisionally Accepted      3380\n",
       "Orthographic                2232\n",
       "Misapplied                  1198\n",
       "Local Biotype               1092\n",
       "Name: count, dtype: int64"
      ]
     },
     "execution_count": 5,
     "metadata": {},
     "output_type": "execute_result"
    }
   ],
   "source": [
    "dftaxon['taxonomicstatus'].value_counts()"
   ]
  },
  {
   "cell_type": "markdown",
   "id": "d0cab68e-d0eb-47bd-b626-311948196c32",
   "metadata": {},
   "source": [
    "We are interested in records that are accurate to the current understanding in biology.\n",
    "The following values for `taxonomicstatus` are of interest:\n",
    "\n",
    "* `Accepted`\n",
    "* `Synonym`\n",
    "* `Artificial Hybrid`\n",
    "* `Local Biotype`"
   ]
  },
  {
   "cell_type": "markdown",
   "id": "9f28527b-b019-468f-a9c8-6b30e3a7eec5",
   "metadata": {},
   "source": [
    "**Which records do synonym records point to?**"
   ]
  },
  {
   "cell_type": "code",
   "execution_count": 6,
   "id": "27496c4e-7108-4866-a665-737dc90ba93e",
   "metadata": {},
   "outputs": [
    {
     "name": "stdout",
     "output_type": "stream",
     "text": [
      "taxonomicstatus\n",
      "Accepted                  224825\n",
      "Provisionally Accepted      2788\n",
      "Artificial Hybrid            601\n",
      "Local Biotype                218\n",
      "Name: count, dtype: int64\n",
      "\n",
      "taxonrank\n",
      "Species        187172\n",
      "Subspecies      18963\n",
      "Variety         15810\n",
      "Genus            5792\n",
      "Form              372\n",
      "nothosubsp.       278\n",
      "nothovar.          27\n",
      "Subvariety          8\n",
      "nothof.             4\n",
      "microgène           4\n",
      "Name: count, dtype: int64\n"
     ]
    }
   ],
   "source": [
    "df = dftaxon[\n",
    "    dftaxon['taxonid'].isin(\n",
    "        dftaxon[dftaxon['taxonomicstatus'] == 'Synonym']['acceptednameusageid']\n",
    "    )\n",
    "]\n",
    "\n",
    "print(df['taxonomicstatus'].value_counts())\n",
    "print()\n",
    "print(df['taxonrank'].value_counts())"
   ]
  },
  {
   "cell_type": "markdown",
   "id": "3dcebde6-a102-470c-8e37-20c803b69757",
   "metadata": {},
   "source": [
    "We can see that most synonym records point to accepted or provisionally accepted records."
   ]
  },
  {
   "cell_type": "markdown",
   "id": "1b5eb4c0-24ea-4068-ab39-892ec2649f77",
   "metadata": {},
   "source": [
    "**What does a synonym record and the record it points to look like?**"
   ]
  },
  {
   "cell_type": "code",
   "execution_count": 7,
   "id": "c1784435-7111-4562-bfa7-3602b26e3a8f",
   "metadata": {},
   "outputs": [
    {
     "name": "stdout",
     "output_type": "stream",
     "text": [
      "      taxonid       family        genus specificepithet infraspecificepithet  \\\n",
      "2210  3179960  Pteridaceae  Acrostichum        conforme             discolor   \n",
      "\n",
      "                          scientificname scientfiicnameauthorship taxonrank  \\\n",
      "2210  Acrostichum conforme var. discolor             (Kuhn) Baker   Variety   \n",
      "\n",
      "     taxonomicstatus  acceptednameusageid  parentnameusageid  \\\n",
      "2210         Synonym            3152012.0                NaN   \n",
      "\n",
      "      originalnameusageid  \\\n",
      "2210            3179959.0   \n",
      "\n",
      "                                                        namepublishedin  \\\n",
      "2210  C.F.P.von Martius & auct. suc. (eds.), Fl. Bras. 1(2): 568 (1870)   \n",
      "\n",
      "     nomenclaturalstatus taxonremarks scientificnameid  \\\n",
      "2210                 NaN          NaN      ipni:3696-2   \n",
      "\n",
      "                                                                                            dynamicproperties  \\\n",
      "2210  {\"powoid\":\"3696-2\",\"lifeform\":\"\",\"climate\":\"\",\"homotypicsynonym\":\"T\",\"hybridformula\":\"\",\"reviewed\":\"N\"}   \n",
      "\n",
      "                                                             references  \n",
      "2210  https://powo.science.kew.org/taxon/urn:lsid:ipni.org:names:3696-2  \n",
      "\n",
      "   taxonid         family          genus specificepithet infraspecificepithet  \\\n",
      "0  3152012  Polypodiaceae  Elaphoglossum        discolor                  NaN   \n",
      "\n",
      "           scientificname scientfiicnameauthorship taxonrank taxonomicstatus  \\\n",
      "0  Elaphoglossum discolor            (Kuhn) C.Chr.   Species        Accepted   \n",
      "\n",
      "   acceptednameusageid  parentnameusageid  originalnameusageid  \\\n",
      "0            3152012.0          3189746.0            3179959.0   \n",
      "\n",
      "            namepublishedin nomenclaturalstatus      taxonremarks  \\\n",
      "0  Index Filic.: 306 (1905)                 NaN  S. Trop. America   \n",
      "\n",
      "  scientificnameid  \\\n",
      "0     ipni:89115-2   \n",
      "\n",
      "                                                                                                             dynamicproperties  \\\n",
      "0  {\"powoid\":\"89115-2\",\"lifeform\":\"epiphyte\",\"climate\":\"wet tropical\",\"homotypicsynonym\":\"\",\"hybridformula\":\"\",\"reviewed\":\"N\"}   \n",
      "\n",
      "                                                           references  \n",
      "0  https://powo.science.kew.org/taxon/urn:lsid:ipni.org:names:89115-2  \n"
     ]
    }
   ],
   "source": [
    "dfsyn = dftaxon[dftaxon['taxonomicstatus'] == 'Synonym'][:1]\n",
    "\n",
    "df = dftaxon[\n",
    "    dftaxon['taxonid'].isin(dfsyn['acceptednameusageid'])\n",
    "]\n",
    "\n",
    "print(dfsyn)\n",
    "print()\n",
    "print(df)"
   ]
  },
  {
   "cell_type": "markdown",
   "id": "a6c9f9c1-7850-4f03-b9a4-66c303ba88f2",
   "metadata": {},
   "source": [
    "Here, we see the synonym \"Acrostichum conforme var. discolor\" from 1870 is referring to the scientific name \"Elaphoglossum discolor\" established in 1905. There was a change of genus in this case."
   ]
  },
  {
   "cell_type": "markdown",
   "id": "b078694a-1605-4528-b6c4-b10cb51f95dc",
   "metadata": {},
   "source": [
    "**What are a `Local Biotype` and a `Artificial Hybrid` record like?**"
   ]
  },
  {
   "cell_type": "code",
   "execution_count": 8,
   "id": "736f0e7f-4283-4dd5-a0be-a8537f0d7f36",
   "metadata": {},
   "outputs": [
    {
     "name": "stdout",
     "output_type": "stream",
     "text": [
      "       taxonid    family  genus specificepithet infraspecificepithet  \\\n",
      "14351  3013548  Rosaceae  Rubus   grandipetalus                  NaN   \n",
      "\n",
      "            scientificname scientfiicnameauthorship taxonrank taxonomicstatus  \\\n",
      "14351  Rubus grandipetalus                    Gand.   Species   Local Biotype   \n",
      "\n",
      "       acceptednameusageid  parentnameusageid  originalnameusageid  \\\n",
      "14351            3013548.0          2976315.0                  NaN   \n",
      "\n",
      "                           namepublishedin nomenclaturalstatus taxonremarks  \\\n",
      "14351  Mém. Soc. Émul. Doubs 8: 220 (1884)                 NaN       France   \n",
      "\n",
      "      scientificnameid  \\\n",
      "14351              NaN   \n",
      "\n",
      "                                                                                               dynamicproperties  \\\n",
      "14351  {\"powoid\":\"3013548-4\",\"lifeform\":\"\",\"climate\":\"\",\"homotypicsynonym\":\"\",\"hybridformula\":\"\",\"reviewed\":\"N\"}   \n",
      "\n",
      "                                                                 references  \n",
      "14351  https://powo.science.kew.org/taxon/urn:lsid:ipni.org:names:3013548-4  \n",
      "\n",
      "     taxonid       family         genus specificepithet infraspecificepithet  \\\n",
      "168    55327  Orchidaceae  Dactylorhiza       hepburnii                  NaN   \n",
      "\n",
      "               scientificname scientfiicnameauthorship taxonrank  \\\n",
      "168  Dactylorhiza × hepburnii              (Druce) Soó   Species   \n",
      "\n",
      "       taxonomicstatus  acceptednameusageid  parentnameusageid  \\\n",
      "168  Artificial Hybrid              55327.0            55153.0   \n",
      "\n",
      "     originalnameusageid                        namepublishedin  \\\n",
      "168             142615.0  Nom. Nov. Gen. Dactylorhiza: 9 (1962)   \n",
      "\n",
      "    nomenclaturalstatus taxonremarks scientificnameid  \\\n",
      "168                 NaN          NaN    ipni:626616-1   \n",
      "\n",
      "                                                                                                                                                  dynamicproperties  \\\n",
      "168  {\"powoid\":\"626616-1\",\"lifeform\":\"\",\"climate\":\"\",\"homotypicsynonym\":\"\",\"hybridformula\":\"D. foliosa × D. incarnata × D. maculata subsp. fuchsii\",\"reviewed\":\"Y\"}   \n",
      "\n",
      "                                                              references  \n",
      "168  https://powo.science.kew.org/taxon/urn:lsid:ipni.org:names:626616-1  \n"
     ]
    }
   ],
   "source": [
    "df = dftaxon[\n",
    "    dftaxon['taxonid'].isin(\n",
    "        dftaxon[dftaxon['taxonomicstatus'] == 'Synonym']['acceptednameusageid']\n",
    "    )\n",
    "]\n",
    "dfbio = df[df['taxonomicstatus'] == 'Local Biotype'][:1]\n",
    "dfahyb = df[df['taxonomicstatus'] == 'Artificial Hybrid'][:1]\n",
    "\n",
    "print(dfbio)\n",
    "print()\n",
    "print(dfahyb)"
   ]
  },
  {
   "cell_type": "markdown",
   "id": "06eb0843-4f41-4674-98a8-b3c6faeef5da",
   "metadata": {},
   "source": [
    "In both these records, note that the `acceptednameusageid` is equal to the `taxonid`, suggesting it is actually a class of accepted names."
   ]
  },
  {
   "cell_type": "markdown",
   "id": "34d7e050-d875-4f81-ac31-d93267a27057",
   "metadata": {},
   "source": [
    "**How does filtering by `acceptednameusageid`/`taxonid` compare to filtering by `taxonomicstatus`?**"
   ]
  },
  {
   "cell_type": "code",
   "execution_count": 9,
   "id": "3d103291-5ac6-41f2-8e1a-25b9f8555618",
   "metadata": {},
   "outputs": [
    {
     "name": "stdout",
     "output_type": "stream",
     "text": [
      "taxonomicstatus\n",
      "Accepted             428941\n",
      "Artificial Hybrid      4231\n",
      "Local Biotype          1092\n",
      "Name: count, dtype: int64\n",
      "\n",
      "taxonomicstatus\n",
      "Accepted             428941\n",
      "Artificial Hybrid      4231\n",
      "Local Biotype          1092\n",
      "Name: count, dtype: int64\n",
      "\n",
      "These sets contain the same data.\n"
     ]
    }
   ],
   "source": [
    "dfeq = dftaxon[dftaxon['taxonid'] == dftaxon['acceptednameusageid']]\n",
    "dfacc = dftaxon[\n",
    "    (dftaxon['taxonomicstatus'] == 'Accepted')\n",
    "    | (dftaxon['taxonomicstatus'] == 'Artificial Hybrid')\n",
    "    | (dftaxon['taxonomicstatus'] == 'Local Biotype')\n",
    "]\n",
    "\n",
    "print(dfeq['taxonomicstatus'].value_counts())\n",
    "print()\n",
    "print(dfacc['taxonomicstatus'].value_counts())\n",
    "print()\n",
    "\n",
    "dfmerge = pd.merge(dfeq, dfacc)\n",
    "if len(dfmerge) != len(dfeq) or len(dfmerge) != len(dfacc):\n",
    "    print('These sets contain different data!!!')\n",
    "    raise Exception('These sets contain different data!!!')\n",
    "else:\n",
    "    print('These sets contain the same data.')"
   ]
  },
  {
   "cell_type": "markdown",
   "id": "b7410312-9e0b-471f-acbc-bbc28e22e8ab",
   "metadata": {},
   "source": [
    "We can see that filtering on `taxonomicstatus` is equivalent to filtering on `acceptednameusageid` and `taxonid` to get accepted records."
   ]
  },
  {
   "cell_type": "markdown",
   "id": "bb132e5d-9718-4ef4-ba16-21bf65db11c9",
   "metadata": {},
   "source": [
    "**Do synonym records reliably point to records with the same taxonrank?**"
   ]
  },
  {
   "cell_type": "code",
   "execution_count": 10,
   "id": "df55e2ad-cd66-4125-a2e5-e8b05f55168e",
   "metadata": {},
   "outputs": [
    {
     "name": "stdout",
     "output_type": "stream",
     "text": [
      "taxonrank_y  taxonrank_x\n",
      "Species      Species        475153\n",
      "Variety      Species        137118\n",
      "Species      Subspecies      52657\n",
      "             Variety         38887\n",
      "Variety      Subspecies      32184\n",
      "Subspecies   Species         27958\n",
      "Form         Species         27553\n",
      "Genus        Genus           20768\n",
      "Variety      Variety         19809\n",
      "Subspecies   Subspecies      11567\n",
      "Form         Subspecies       6952\n",
      "             Variety          4997\n",
      "Subspecies   Variety          2852\n",
      "Subvariety   Species          2203\n",
      "proles       Species          1397\n",
      "Species      Form              818\n",
      "proles       Subspecies        715\n",
      "Subvariety   Subspecies        662\n",
      "Variety      Form              567\n",
      "Species      nothosubsp.       488\n",
      "Name: count, dtype: int64\n",
      "...\n"
     ]
    }
   ],
   "source": [
    "df = pd.merge(\n",
    "    dftaxon,\n",
    "    dftaxon[dftaxon['taxonomicstatus'] == 'Synonym'][['acceptednameusageid', 'taxonrank']],\n",
    "    left_on='taxonid',\n",
    "    right_on='acceptednameusageid',\n",
    "    how='inner',\n",
    ")\n",
    "\n",
    "# taxonrank_x is from dftaxon_y is from the synonym record, dftaxon_x is from the record it refers to.\n",
    "print(df[['taxonrank_y', 'taxonrank_x']].value_counts()[:20])\n",
    "print('...')"
   ]
  },
  {
   "cell_type": "markdown",
   "id": "a1ed4392-8b61-4743-9b27-3677c37485f2",
   "metadata": {},
   "source": [
    "We can see that the answer is \"no\", a synonym at one rank might actually refer to another rank."
   ]
  },
  {
   "cell_type": "markdown",
   "id": "3e30b6f4-4d59-4642-8a86-b6baad344c54",
   "metadata": {},
   "source": [
    "**What do some `Provisionally Accepted` records look like?**"
   ]
  },
  {
   "cell_type": "code",
   "execution_count": 11,
   "id": "ca18cf8d-4b07-4d75-9e34-2e0e4aea70ac",
   "metadata": {},
   "outputs": [
    {
     "data": {
      "text/html": [
       "<div>\n",
       "<style scoped>\n",
       "    .dataframe tbody tr th:only-of-type {\n",
       "        vertical-align: middle;\n",
       "    }\n",
       "\n",
       "    .dataframe tbody tr th {\n",
       "        vertical-align: top;\n",
       "    }\n",
       "\n",
       "    .dataframe thead th {\n",
       "        text-align: right;\n",
       "    }\n",
       "</style>\n",
       "<table border=\"1\" class=\"dataframe\">\n",
       "  <thead>\n",
       "    <tr style=\"text-align: right;\">\n",
       "      <th></th>\n",
       "      <th>taxonid</th>\n",
       "      <th>family</th>\n",
       "      <th>genus</th>\n",
       "      <th>specificepithet</th>\n",
       "      <th>infraspecificepithet</th>\n",
       "      <th>scientificname</th>\n",
       "      <th>scientfiicnameauthorship</th>\n",
       "      <th>taxonrank</th>\n",
       "      <th>taxonomicstatus</th>\n",
       "      <th>acceptednameusageid</th>\n",
       "      <th>parentnameusageid</th>\n",
       "      <th>originalnameusageid</th>\n",
       "      <th>namepublishedin</th>\n",
       "      <th>nomenclaturalstatus</th>\n",
       "      <th>taxonremarks</th>\n",
       "      <th>scientificnameid</th>\n",
       "      <th>dynamicproperties</th>\n",
       "      <th>references</th>\n",
       "    </tr>\n",
       "  </thead>\n",
       "  <tbody>\n",
       "    <tr>\n",
       "      <th>14233</th>\n",
       "      <td>120970</td>\n",
       "      <td>Lamiaceae</td>\n",
       "      <td>Marsypianthes</td>\n",
       "      <td>glomerata</td>\n",
       "      <td>NaN</td>\n",
       "      <td>Marsypianthes glomerata</td>\n",
       "      <td>C.Presl</td>\n",
       "      <td>Species</td>\n",
       "      <td>Provisionally Accepted</td>\n",
       "      <td>NaN</td>\n",
       "      <td>120964.0</td>\n",
       "      <td>NaN</td>\n",
       "      <td>Abh. Königl. Böhm. Ges. Wiss., ser. 5, 3: 531 (1845)</td>\n",
       "      <td>NaN</td>\n",
       "      <td>NaN</td>\n",
       "      <td>ipni:449999-1</td>\n",
       "      <td>{\"powoid\":\"449999-1\",\"lifeform\":\"\",\"climate\":\"\",\"homotypicsynonym\":\"\",\"hybridformula\":\"\",\"reviewed\":\"Y\"}</td>\n",
       "      <td>https://powo.science.kew.org/taxon/urn:lsid:ipni.org:names:449999-1</td>\n",
       "    </tr>\n",
       "    <tr>\n",
       "      <th>14629</th>\n",
       "      <td>2708032</td>\n",
       "      <td>Scrophulariaceae</td>\n",
       "      <td>Celsia</td>\n",
       "      <td>doniana</td>\n",
       "      <td>NaN</td>\n",
       "      <td>Celsia doniana</td>\n",
       "      <td>Walp.</td>\n",
       "      <td>Species</td>\n",
       "      <td>Provisionally Accepted</td>\n",
       "      <td>NaN</td>\n",
       "      <td>2707981.0</td>\n",
       "      <td>NaN</td>\n",
       "      <td>Repert. Bot. Syst. 3: 150 (1844)</td>\n",
       "      <td>NaN</td>\n",
       "      <td>NaN</td>\n",
       "      <td>ipni:801263-1</td>\n",
       "      <td>{\"powoid\":\"801263-1\",\"lifeform\":\"\",\"climate\":\"\",\"homotypicsynonym\":\"\",\"hybridformula\":\"\",\"reviewed\":\"N\"}</td>\n",
       "      <td>https://powo.science.kew.org/taxon/urn:lsid:ipni.org:names:801263-1</td>\n",
       "    </tr>\n",
       "    <tr>\n",
       "      <th>38750</th>\n",
       "      <td>3310953</td>\n",
       "      <td>Scrophulariaceae</td>\n",
       "      <td>Nemesia</td>\n",
       "      <td>suttonii</td>\n",
       "      <td>NaN</td>\n",
       "      <td>Nemesia × suttonii</td>\n",
       "      <td>(Anon.) Anon.</td>\n",
       "      <td>Species</td>\n",
       "      <td>Provisionally Accepted</td>\n",
       "      <td>NaN</td>\n",
       "      <td>2382653.0</td>\n",
       "      <td>3310952.0</td>\n",
       "      <td>Sunset Mag. 69: 39 (1932)</td>\n",
       "      <td>NaN</td>\n",
       "      <td>NaN</td>\n",
       "      <td>NaN</td>\n",
       "      <td>{\"powoid\":\"3310953-4\",\"lifeform\":\"\",\"climate\":\"\",\"homotypicsynonym\":\"\",\"hybridformula\":\"\",\"reviewed\":\"N\"}</td>\n",
       "      <td>https://powo.science.kew.org/taxon/urn:lsid:ipni.org:names:3310953-4</td>\n",
       "    </tr>\n",
       "    <tr>\n",
       "      <th>62011</th>\n",
       "      <td>3138415</td>\n",
       "      <td>Lycopodiaceae</td>\n",
       "      <td>Pseudolycopodiella</td>\n",
       "      <td>paradoxa</td>\n",
       "      <td>NaN</td>\n",
       "      <td>Pseudolycopodiella paradoxa</td>\n",
       "      <td>(Mart.) Holub</td>\n",
       "      <td>Species</td>\n",
       "      <td>Provisionally Accepted</td>\n",
       "      <td>NaN</td>\n",
       "      <td>3141666.0</td>\n",
       "      <td>3140883.0</td>\n",
       "      <td>Folia Geobot. Phytotax. 18: 442 (1983)</td>\n",
       "      <td>NaN</td>\n",
       "      <td>Venezuela (Bolívar) to Paraguay</td>\n",
       "      <td>ipni:211465-2</td>\n",
       "      <td>{\"powoid\":\"211465-2\",\"lifeform\":\"subshrub\",\"climate\":\"wet tropical\",\"homotypicsynonym\":\"\",\"hybridformula\":\"\",\"reviewed\":\"N\"}</td>\n",
       "      <td>https://powo.science.kew.org/taxon/urn:lsid:ipni.org:names:211465-2</td>\n",
       "    </tr>\n",
       "  </tbody>\n",
       "</table>\n",
       "</div>"
      ],
      "text/plain": [
       "       taxonid            family               genus specificepithet  \\\n",
       "14233   120970         Lamiaceae       Marsypianthes       glomerata   \n",
       "14629  2708032  Scrophulariaceae              Celsia         doniana   \n",
       "38750  3310953  Scrophulariaceae             Nemesia        suttonii   \n",
       "62011  3138415     Lycopodiaceae  Pseudolycopodiella        paradoxa   \n",
       "\n",
       "      infraspecificepithet               scientificname  \\\n",
       "14233                  NaN      Marsypianthes glomerata   \n",
       "14629                  NaN               Celsia doniana   \n",
       "38750                  NaN           Nemesia × suttonii   \n",
       "62011                  NaN  Pseudolycopodiella paradoxa   \n",
       "\n",
       "      scientfiicnameauthorship taxonrank         taxonomicstatus  \\\n",
       "14233                  C.Presl   Species  Provisionally Accepted   \n",
       "14629                    Walp.   Species  Provisionally Accepted   \n",
       "38750            (Anon.) Anon.   Species  Provisionally Accepted   \n",
       "62011            (Mart.) Holub   Species  Provisionally Accepted   \n",
       "\n",
       "       acceptednameusageid  parentnameusageid  originalnameusageid  \\\n",
       "14233                  NaN           120964.0                  NaN   \n",
       "14629                  NaN          2707981.0                  NaN   \n",
       "38750                  NaN          2382653.0            3310952.0   \n",
       "62011                  NaN          3141666.0            3140883.0   \n",
       "\n",
       "                                            namepublishedin  \\\n",
       "14233  Abh. Königl. Böhm. Ges. Wiss., ser. 5, 3: 531 (1845)   \n",
       "14629                      Repert. Bot. Syst. 3: 150 (1844)   \n",
       "38750                             Sunset Mag. 69: 39 (1932)   \n",
       "62011                Folia Geobot. Phytotax. 18: 442 (1983)   \n",
       "\n",
       "      nomenclaturalstatus                     taxonremarks scientificnameid  \\\n",
       "14233                 NaN                              NaN    ipni:449999-1   \n",
       "14629                 NaN                              NaN    ipni:801263-1   \n",
       "38750                 NaN                              NaN              NaN   \n",
       "62011                 NaN  Venezuela (Bolívar) to Paraguay    ipni:211465-2   \n",
       "\n",
       "                                                                                                                  dynamicproperties  \\\n",
       "14233                      {\"powoid\":\"449999-1\",\"lifeform\":\"\",\"climate\":\"\",\"homotypicsynonym\":\"\",\"hybridformula\":\"\",\"reviewed\":\"Y\"}   \n",
       "14629                      {\"powoid\":\"801263-1\",\"lifeform\":\"\",\"climate\":\"\",\"homotypicsynonym\":\"\",\"hybridformula\":\"\",\"reviewed\":\"N\"}   \n",
       "38750                     {\"powoid\":\"3310953-4\",\"lifeform\":\"\",\"climate\":\"\",\"homotypicsynonym\":\"\",\"hybridformula\":\"\",\"reviewed\":\"N\"}   \n",
       "62011  {\"powoid\":\"211465-2\",\"lifeform\":\"subshrub\",\"climate\":\"wet tropical\",\"homotypicsynonym\":\"\",\"hybridformula\":\"\",\"reviewed\":\"N\"}   \n",
       "\n",
       "                                                                 references  \n",
       "14233   https://powo.science.kew.org/taxon/urn:lsid:ipni.org:names:449999-1  \n",
       "14629   https://powo.science.kew.org/taxon/urn:lsid:ipni.org:names:801263-1  \n",
       "38750  https://powo.science.kew.org/taxon/urn:lsid:ipni.org:names:3310953-4  \n",
       "62011   https://powo.science.kew.org/taxon/urn:lsid:ipni.org:names:211465-2  "
      ]
     },
     "execution_count": 11,
     "metadata": {},
     "output_type": "execute_result"
    }
   ],
   "source": [
    "dftaxon[dftaxon['taxonomicstatus'] == 'Provisionally Accepted'][:4]"
   ]
  },
  {
   "cell_type": "markdown",
   "id": "6865f51f-8c1a-4204-903c-4902dbe16072",
   "metadata": {},
   "source": [
    "Notice the lack of an `acceptednameusageid` for these records."
   ]
  },
  {
   "cell_type": "markdown",
   "id": "28b96712-dfd0-42e6-b1ba-3902e37093ad",
   "metadata": {},
   "source": [
    "**Do all accepted taxonomy records have a record in the distribution dataset?**"
   ]
  },
  {
   "cell_type": "code",
   "execution_count": 12,
   "id": "5427be97-897a-4080-871c-ce308d05563a",
   "metadata": {},
   "outputs": [
    {
     "name": "stdout",
     "output_type": "stream",
     "text": [
      "There are 434264 accepted names and 430017 (99.02%) are present in the distribution file.\n"
     ]
    }
   ],
   "source": [
    "df1 = dftaxon[\n",
    "    (dftaxon['taxonid'] == dftaxon['acceptednameusageid'])\n",
    "]\n",
    "df2 = dftaxon[\n",
    "    (dftaxon['taxonid'] == dftaxon['acceptednameusageid'])\n",
    "    & (dftaxon['taxonid'].isin(dfdist['coreid']))\n",
    "]\n",
    "\n",
    "percent = len(df2) / len(df1) * 100.0\n",
    "print(f'There are {len(df1)} accepted names and {len(df2)} ({percent:.2f}%) are present in the distribution file.')"
   ]
  },
  {
   "cell_type": "markdown",
   "id": "62e2a6f8-7ac2-48fc-b3e3-fdd5e29c989f",
   "metadata": {},
   "source": [
    "No, not every accepted name is in the distribution file."
   ]
  },
  {
   "cell_type": "markdown",
   "id": "35de9b3c-3df0-46f8-b5ce-cdb1afcbcad5",
   "metadata": {},
   "source": [
    "**Do any synonym taxonomy records have a record in the distribution dataset?**"
   ]
  },
  {
   "cell_type": "code",
   "execution_count": 13,
   "id": "db0e6a5d-a9a6-4b88-aaae-cc7b2b13765f",
   "metadata": {},
   "outputs": [
    {
     "name": "stdout",
     "output_type": "stream",
     "text": [
      "0\n"
     ]
    }
   ],
   "source": [
    "df = dftaxon[\n",
    "    (dftaxon['taxonomicstatus'] == 'Synonym')\n",
    "]\n",
    "dfd = dfdist[dfdist['coreid'].isin(df['taxonid'])]\n",
    "\n",
    "print(len(dfd))"
   ]
  },
  {
   "cell_type": "markdown",
   "id": "456fb85d-b964-450f-a933-c370be712b09",
   "metadata": {},
   "source": [
    "No."
   ]
  },
  {
   "cell_type": "markdown",
   "id": "5de222c1-da98-498d-afe8-25ce9e53d92c",
   "metadata": {},
   "source": [
    "**How can I create an effective lookup for `establishmentmeans` by `scientificname`?**"
   ]
  },
  {
   "cell_type": "code",
   "execution_count": 14,
   "id": "9860b505-a95a-44d3-a1e6-775346d4e56b",
   "metadata": {},
   "outputs": [
    {
     "name": "stdout",
     "output_type": "stream",
     "text": [
      "       scientificname taxonrank taxonomicstatus    locality establishmentmeans\n",
      "15  Phlox hendersonii   Species        Accepted  Washington                NaN\n",
      "\n",
      "            scientificname taxonrank taxonomicstatus    locality  \\\n",
      "364  Lysimachia terrestris   Species        Accepted  Washington   \n",
      "\n",
      "    establishmentmeans  \n",
      "364         introduced  \n",
      "\n",
      "           scientificname taxonrank taxonomicstatus locality  \\\n",
      "572856  Cercis canadensis   Species        Accepted      NaN   \n",
      "\n",
      "       establishmentmeans  \n",
      "572856                NaN  \n",
      "\n",
      "scientificname\n",
      "Laurus cassia                      6\n",
      "Cacalia tomentosa                  6\n",
      "Crepis hieracioides                5\n",
      "Draba ciliaris                     5\n",
      "Solanum acanthifolium              5\n",
      "Laurus exaltata                    5\n",
      "Medicago obscura f. sinistrorsa    5\n",
      "Medicago obscura f. dextrosa       5\n",
      "Eupatorium acuminatum              5\n",
      "Lycopsis vesicaria                 5\n",
      "Name: count, dtype: int64\n"
     ]
    }
   ],
   "source": [
    "dft = dftaxon[\n",
    "    (dftaxon['taxonid'] == dftaxon['acceptednameusageid'])\n",
    "    | (dftaxon['taxonomicstatus'] == 'Synonym')\n",
    "]\n",
    "dfd = dfdist[\n",
    "    (dfdist['locality'] == 'Washington')\n",
    "]\n",
    "\n",
    "df = pd.merge(dft, dfd[['coreid', 'locality', 'establishmentmeans']], left_on='acceptednameusageid', right_on='coreid', how='left')\n",
    "\n",
    "# prune for the sake of slim output\n",
    "df = df[['scientificname', 'taxonrank', 'taxonomicstatus', 'locality', 'establishmentmeans']]\n",
    "\n",
    "print(\n",
    "    df[\n",
    "        (df['establishmentmeans'] != 'introduced')\n",
    "          & (df['locality'] == 'Washington')\n",
    "    ][:1]\n",
    ")\n",
    "print()\n",
    "print(df[df['establishmentmeans'] == 'introduced'][:1])\n",
    "print()\n",
    "print(df[df['scientificname'] == 'Cercis canadensis'])\n",
    "print()\n",
    "print(df['scientificname'].value_counts()[:10])"
   ]
  },
  {
   "cell_type": "markdown",
   "id": "ca0cd0c7-2f48-4b0b-9e13-2ad3d19dcfb5",
   "metadata": {},
   "source": [
    "By joining a filtered subset of the distribution dataset to the taxonomy dataset on the `acceptednameusageid` column, we can associate to each plant the `establishmentmeans` for that plant's record in the distribution file. Then, checking both the `locality` and `establishmentmeans` coulmns are required to determine whether the plant is introduced, native, or not found in the area.\n",
    "\n",
    "* Native: `locality` is the locality of interest and `establishmentmeans` is not `introduced`.\n",
    "* Introduced: `locality` is the locality of interest and `establishmentmeans` is `introduced`.\n",
    "* Not found: `locality` is not the locality of interest (is NA or NaN).\n",
    "\n",
    "This also requires filtering the taxonomy dataset down to accepted and synonym names. However, keep in mind records for a given scientific name are still not unique in the dataset."
   ]
  },
  {
   "cell_type": "markdown",
   "id": "ca53af3d-92b2-4e32-93ad-df0294cca470",
   "metadata": {},
   "source": [
    "**What do multiple accepted records for a given scientific name look like?**"
   ]
  },
  {
   "cell_type": "code",
   "execution_count": 15,
   "id": "1441bb95-30be-4982-9c7b-e57c6f4ba208",
   "metadata": {},
   "outputs": [
    {
     "name": "stdout",
     "output_type": "stream",
     "text": [
      "scientificname                  taxonomicstatus\n",
      "Briza minor var. virens         Synonym            3\n",
      "Crataegus pyracantha            Synonym            3\n",
      "Rosa canina f. genuina          Synonym            3\n",
      "Avena sativa subsp. orientalis  Synonym            3\n",
      "Name: count, dtype: int64\n",
      "\n",
      "scientificname         taxonomicstatus\n",
      "× Elyleymus aristatus  Accepted           1\n",
      "Abies                  Accepted           1\n",
      "Abies amabilis         Accepted           1\n",
      "Abies grandis          Accepted           1\n",
      "Name: count, dtype: int64\n",
      "\n",
      "------------- Multiple Records -------------\n",
      "         taxonid    family      genus specificepithet infraspecificepithet  \\\n",
      "336290   2947016  Rosaceae  Crataegus      pyracantha                  NaN   \n",
      "1287578  2947018  Rosaceae  Crataegus      pyracantha                  NaN   \n",
      "1287580  2947019  Rosaceae  Crataegus      pyracantha                  NaN   \n",
      "\n",
      "               scientificname scientfiicnameauthorship taxonrank  \\\n",
      "336290   Crataegus pyracantha              (L.) Medik.   Species   \n",
      "1287578  Crataegus pyracantha                  Brandis   Species   \n",
      "1287580  Crataegus pyracantha                   Hemsl.   Species   \n",
      "\n",
      "        taxonomicstatus  acceptednameusageid  parentnameusageid  \\\n",
      "336290          Synonym            2962677.0                NaN   \n",
      "1287578         Synonym            2962685.0                NaN   \n",
      "1287580         Synonym            2962685.0                NaN   \n",
      "\n",
      "         originalnameusageid                     namepublishedin  \\\n",
      "336290             2951533.0              Gesch. Bot.: 84 (1793)   \n",
      "1287578                  NaN   Forest Fl. N.W. India: 208 (1874)   \n",
      "1287580                  NaN  J. Linn. Soc., Bot. 23: 260 (1887)   \n",
      "\n",
      "        nomenclaturalstatus taxonremarks scientificnameid  \\\n",
      "336290                  NaN          NaN    ipni:724088-1   \n",
      "1287578                 NaN          NaN              NaN   \n",
      "1287580                 NaN          NaN              NaN   \n",
      "\n",
      "                                                                                                 dynamicproperties  \\\n",
      "336290   {\"powoid\":\"724088-1\",\"lifeform\":\"\",\"climate\":\"\",\"homotypicsynonym\":\"T\",\"hybridformula\":\"\",\"reviewed\":\"N\"}   \n",
      "1287578  {\"powoid\":\"2947018-4\",\"lifeform\":\"\",\"climate\":\"\",\"homotypicsynonym\":\"\",\"hybridformula\":\"\",\"reviewed\":\"N\"}   \n",
      "1287580  {\"powoid\":\"2947019-4\",\"lifeform\":\"\",\"climate\":\"\",\"homotypicsynonym\":\"\",\"hybridformula\":\"\",\"reviewed\":\"N\"}   \n",
      "\n",
      "                                                                   references  \\\n",
      "336290    https://powo.science.kew.org/taxon/urn:lsid:ipni.org:names:724088-1   \n",
      "1287578  https://powo.science.kew.org/taxon/urn:lsid:ipni.org:names:2947018-4   \n",
      "1287580  https://powo.science.kew.org/taxon/urn:lsid:ipni.org:names:2947019-4   \n",
      "\n",
      "            coreid    locality establishmentmeans  \n",
      "336290   2962677.0  Washington         introduced  \n",
      "1287578  2962685.0  Washington         introduced  \n",
      "1287580  2962685.0  Washington         introduced  \n",
      "\n",
      "------------- Corresponding Accepted Records -------------\n",
      "        taxonid    family       genus specificepithet infraspecificepithet  \\\n",
      "197741  2962685  Rosaceae  Pyracantha       crenulata                  NaN   \n",
      "340628  2962677  Rosaceae  Pyracantha        coccinea                  NaN   \n",
      "\n",
      "              scientificname scientfiicnameauthorship taxonrank  \\\n",
      "197741  Pyracantha crenulata          (D.Don) M.Roem.   Species   \n",
      "340628   Pyracantha coccinea                  M.Roem.   Species   \n",
      "\n",
      "       taxonomicstatus  acceptednameusageid  parentnameusageid  \\\n",
      "197741        Accepted            2962685.0          2962673.0   \n",
      "340628        Accepted            2962677.0          2962673.0   \n",
      "\n",
      "        originalnameusageid                       namepublishedin  \\\n",
      "197741            2951262.0  Fam. Nat. Syn. Monogr. 3: 220 (1847)   \n",
      "340628                  NaN  Fam. Nat. Syn. Monogr. 3: 219 (1847)   \n",
      "\n",
      "       nomenclaturalstatus                        taxonremarks  \\\n",
      "197741                 NaN  N. Pakistan to NW. India and China   \n",
      "340628        , nom. cons.             SC. & S. Europe to Iran   \n",
      "\n",
      "       scientificnameid  \\\n",
      "197741    ipni:730613-1   \n",
      "340628    ipni:730611-1   \n",
      "\n",
      "                                                                                                             dynamicproperties  \\\n",
      "197741  {\"powoid\":\"730613-1\",\"lifeform\":\"shrub\",\"climate\":\"temperate\",\"homotypicsynonym\":\"\",\"hybridformula\":\"\",\"reviewed\":\"N\"}   \n",
      "340628  {\"powoid\":\"730611-1\",\"lifeform\":\"shrub\",\"climate\":\"temperate\",\"homotypicsynonym\":\"\",\"hybridformula\":\"\",\"reviewed\":\"N\"}   \n",
      "\n",
      "                                                                 references  \\\n",
      "197741  https://powo.science.kew.org/taxon/urn:lsid:ipni.org:names:730613-1   \n",
      "340628  https://powo.science.kew.org/taxon/urn:lsid:ipni.org:names:730611-1   \n",
      "\n",
      "           coreid    locality establishmentmeans  \n",
      "197741  2962685.0  Washington         introduced  \n",
      "340628  2962677.0  Washington         introduced  \n"
     ]
    }
   ],
   "source": [
    "dft = dftaxon[\n",
    "    (dftaxon['taxonid'] == dftaxon['acceptednameusageid'])\n",
    "    | (dftaxon['taxonomicstatus'] == 'Synonym')\n",
    "]\n",
    "dfd = dfdist[\n",
    "    (dfdist['locality'] == 'Washington')\n",
    "]\n",
    "\n",
    "df = pd.merge(dft, dfd[['coreid', 'locality', 'establishmentmeans']], left_on='acceptednameusageid', right_on='coreid', how='left')\n",
    "df = df[df['locality'] == 'Washington']\n",
    "\n",
    "print(df[['scientificname', 'taxonomicstatus']].value_counts()[:4])\n",
    "print()\n",
    "print(df[df['taxonomicstatus'] != 'Synonym'][['scientificname', 'taxonomicstatus']].value_counts()[:4])\n",
    "print()\n",
    "print('------------- Multiple Records -------------')\n",
    "dfp = df[\n",
    "    (df['scientificname'] == 'Crataegus pyracantha')\n",
    "]\n",
    "print(dfp)\n",
    "print()\n",
    "print('------------- Corresponding Accepted Records -------------')\n",
    "print(df[df['taxonid'].isin(dfp['acceptednameusageid'])])"
   ]
  },
  {
   "cell_type": "markdown",
   "id": "985d2142-0116-48e6-a3cd-ded1ee74d1e5",
   "metadata": {},
   "source": [
    "We see that there are no duplicate names in the set of accepted records, so in the case where a scientific name leads to multiple records, those records should be synonym records."
   ]
  },
  {
   "cell_type": "markdown",
   "id": "3fcfd0cb-828d-45de-97aa-92ef48675d3c",
   "metadata": {},
   "source": [
    "**What kind of accepted records have duplicate scientific names?**"
   ]
  },
  {
   "cell_type": "code",
   "execution_count": 16,
   "id": "8ea45846-4a23-4d07-93db-0cabfe3be86b",
   "metadata": {},
   "outputs": [
    {
     "data": {
      "text/plain": [
       "scientificname                                      taxonomicstatus       \n",
       "Rubus gerezianus                                    Local Biotype             2\n",
       "× Trichopsis                                        Artificial Hybrid         2\n",
       "Genista triquetra                                   Provisionally Accepted    2\n",
       "× Hueylihara                                        Artificial Hybrid         2\n",
       "Rosa hecleliana                                     Orthographic              2\n",
       "× Jesupara                                          Artificial Hybrid         2\n",
       "× Scullyara                                         Artificial Hybrid         2\n",
       "× Smithara                                          Artificial Hybrid         2\n",
       "Rosa virginica                                      Orthographic              2\n",
       "× Nakamotoara                                       Artificial Hybrid         2\n",
       "Potentilla thomasii                                 Orthographic              2\n",
       "Lonicera × heckrottii                               Artificial Hybrid         2\n",
       "Elodea                                              Orthographic              2\n",
       "× Rumrillara                                        Artificial Hybrid         2\n",
       "Pakaraimaea dipterocarpacea subsp. nitida           Accepted                  1\n",
       "Palafoxia                                           Accepted                  1\n",
       "Pakaraimaea dipterocarpacea subsp. dipterocarpacea  Accepted                  1\n",
       "Pakaraimaea dipterocarpacea                         Accepted                  1\n",
       "Palafoxia arida                                     Accepted                  1\n",
       "Pakaraimaea                                         Accepted                  1\n",
       "Pajanelia                                           Accepted                  1\n",
       "Name: count, dtype: int64"
      ]
     },
     "execution_count": 16,
     "metadata": {},
     "output_type": "execute_result"
    }
   ],
   "source": [
    "df = dftaxon\n",
    "df = df[df['taxonomicstatus'] != 'Illegitimate']\n",
    "df = df[df['taxonomicstatus'] != 'Unplaced']\n",
    "df = df[df['taxonomicstatus'] != 'Invalid']\n",
    "df = df[df['taxonomicstatus'] != 'Misapplied']\n",
    "df = df[df['taxonomicstatus'] != 'Synonym']\n",
    "df[['scientificname', 'taxonomicstatus']].value_counts()[:21]"
   ]
  },
  {
   "cell_type": "markdown",
   "id": "dbb12f49-2531-4dad-9d0a-12582f8d9f5c",
   "metadata": {},
   "source": [
    "**What do some accepted records with duplicate scientific names look like?**"
   ]
  },
  {
   "cell_type": "code",
   "execution_count": 17,
   "id": "e36b4eb5-f8c3-4696-8d1b-2de82c5784d2",
   "metadata": {},
   "outputs": [
    {
     "name": "stdout",
     "output_type": "stream",
     "text": [
      "        taxonid    family       genus specificepithet infraspecificepithet  \\\n",
      "798517  2957822  Rosaceae  Potentilla        thomasii                  NaN   \n",
      "950693  2957820  Rosaceae  Potentilla        thomasii                  NaN   \n",
      "950694  2957821  Rosaceae  Potentilla        thomasii                  NaN   \n",
      "\n",
      "             scientificname scientfiicnameauthorship taxonrank  \\\n",
      "798517  Potentilla thomasii                 C.A.Mey.   Species   \n",
      "950693  Potentilla thomasii             Ten. ex Ser.   Species   \n",
      "950694  Potentilla thomasii                     Ser.   Species   \n",
      "\n",
      "       taxonomicstatus  acceptednameusageid  parentnameusageid  \\\n",
      "798517         Synonym            2955944.0                NaN   \n",
      "950693    Orthographic            2954440.0                NaN   \n",
      "950694    Orthographic            2954440.0                NaN   \n",
      "\n",
      "        originalnameusageid                        namepublishedin  \\\n",
      "798517                  NaN     Verz. Pfl. Casp. Meer.: 168 (1831)   \n",
      "950693                  NaN  A.P.de Candolle, Prodr. 2: 576 (1825)   \n",
      "950694                  NaN  A.P.de Candolle, Prodr. 2: 576 (1825)   \n",
      "\n",
      "       nomenclaturalstatus taxonremarks scientificnameid  \\\n",
      "798517                 NaN          NaN    ipni:729117-1   \n",
      "950693                 NaN          NaN              NaN   \n",
      "950694                 NaN          NaN              NaN   \n",
      "\n",
      "                                                                                                dynamicproperties  \\\n",
      "798517   {\"powoid\":\"729117-1\",\"lifeform\":\"\",\"climate\":\"\",\"homotypicsynonym\":\"\",\"hybridformula\":\"\",\"reviewed\":\"N\"}   \n",
      "950693  {\"powoid\":\"2957820-4\",\"lifeform\":\"\",\"climate\":\"\",\"homotypicsynonym\":\"\",\"hybridformula\":\"\",\"reviewed\":\"N\"}   \n",
      "950694  {\"powoid\":\"2957821-4\",\"lifeform\":\"\",\"climate\":\"\",\"homotypicsynonym\":\"\",\"hybridformula\":\"\",\"reviewed\":\"N\"}   \n",
      "\n",
      "                                                                  references  \n",
      "798517   https://powo.science.kew.org/taxon/urn:lsid:ipni.org:names:729117-1  \n",
      "950693  https://powo.science.kew.org/taxon/urn:lsid:ipni.org:names:2957820-4  \n",
      "950694  https://powo.science.kew.org/taxon/urn:lsid:ipni.org:names:2957821-4  \n"
     ]
    }
   ],
   "source": [
    "df = dftaxon[dftaxon['scientificname'] == 'Potentilla thomasii']\n",
    "\n",
    "print(df)"
   ]
  },
  {
   "cell_type": "markdown",
   "id": "5051ac10-0868-4786-9f95-16b31c5bf8c2",
   "metadata": {},
   "source": [
    "**Do any synonym records with duplicate scientific name refer to multiple accepted records with differing establishment means?**"
   ]
  },
  {
   "cell_type": "code",
   "execution_count": 18,
   "id": "74bf7916-a28b-455f-8925-b464dab4a1ab",
   "metadata": {},
   "outputs": [
    {
     "name": "stdout",
     "output_type": "stream",
     "text": [
      "24\n",
      "\n",
      "                          scientificname establishmentmeans  count\n",
      "6159                  Artemisia violacea  {nan, introduced}      2\n",
      "6316                             Aspasia  {nan, introduced}      2\n",
      "6997   Atriplex patula subsp. littoralis  {nan, introduced}      2\n",
      "7182                             Aurelia  {nan, introduced}      2\n",
      "11936  Cardamine flexuosa f. grandiflora  {nan, introduced}      2\n",
      "15326                          Cicutaria  {nan, introduced}      2\n",
      "16745                             Costia  {nan, introduced}      2\n",
      "17455                   Crepis umbellata  {nan, introduced}      2\n",
      "19822                           Dondisia  {nan, introduced}      2\n",
      "21484                 Epilobium uralense  {nan, introduced}      2\n",
      "\n",
      "--------------- Synonym Records ---------------\n",
      "         taxonid      family      genus specificepithet infraspecificepithet  \\\n",
      "662644   3107808  Asteraceae  Artemisia        violacea                  NaN   \n",
      "1005047  3108894  Asteraceae  Artemisia        violacea                  NaN   \n",
      "\n",
      "             scientificname scientfiicnameauthorship taxonrank  \\\n",
      "662644   Artemisia violacea                   Ledeb.   Species   \n",
      "1005047  Artemisia violacea                    Desf.   Species   \n",
      "\n",
      "        taxonomicstatus  acceptednameusageid  parentnameusageid  \\\n",
      "662644          Synonym            3107814.0                NaN   \n",
      "1005047         Synonym            3108899.0                NaN   \n",
      "\n",
      "         originalnameusageid  \\\n",
      "662644                   NaN   \n",
      "1005047                  NaN   \n",
      "\n",
      "                                                        namepublishedin  \\\n",
      "662644   Mém. Acad. Imp. Sci. St. Pétersbourg Hist. Acad. 5: 567 (1815)   \n",
      "1005047                             Tabl. École Bot., ed. 2: 112 (1815)   \n",
      "\n",
      "        nomenclaturalstatus taxonremarks scientificnameid  \\\n",
      "662644                  NaN          NaN    ipni:180271-1   \n",
      "1005047                 NaN          NaN    ipni:180270-1   \n",
      "\n",
      "                                                                                                dynamicproperties  \\\n",
      "662644   {\"powoid\":\"180271-1\",\"lifeform\":\"\",\"climate\":\"\",\"homotypicsynonym\":\"\",\"hybridformula\":\"\",\"reviewed\":\"N\"}   \n",
      "1005047  {\"powoid\":\"180270-1\",\"lifeform\":\"\",\"climate\":\"\",\"homotypicsynonym\":\"\",\"hybridformula\":\"\",\"reviewed\":\"N\"}   \n",
      "\n",
      "                                                                  references  \\\n",
      "662644   https://powo.science.kew.org/taxon/urn:lsid:ipni.org:names:180271-1   \n",
      "1005047  https://powo.science.kew.org/taxon/urn:lsid:ipni.org:names:180270-1   \n",
      "\n",
      "            coreid    locality establishmentmeans  \n",
      "662644   3107814.0  Washington                NaN  \n",
      "1005047  3108899.0  Washington         introduced  \n",
      "\n",
      "--------------- Accepted Records ---------------\n",
      "         taxonid      family      genus specificepithet infraspecificepithet  \\\n",
      "153635   3107814  Asteraceae  Artemisia      campestris             borealis   \n",
      "1044499  3108899  Asteraceae  Artemisia        vulgaris             vulgaris   \n",
      "\n",
      "                               scientificname  scientfiicnameauthorship  \\\n",
      "153635   Artemisia campestris subsp. borealis  (Pall.) H.M.Hall & Clem.   \n",
      "1044499    Artemisia vulgaris subsp. vulgaris                       NaN   \n",
      "\n",
      "          taxonrank taxonomicstatus  acceptednameusageid  parentnameusageid  \\\n",
      "153635   Subspecies        Accepted            3107814.0          3107744.0   \n",
      "1044499  Subspecies        Accepted            3108899.0          2922622.0   \n",
      "\n",
      "         originalnameusageid              namepublishedin nomenclaturalstatus  \\\n",
      "153635             3107631.0  Phylogen. Meth.: 122 (1923)                 NaN   \n",
      "1044499                  NaN                      Unknown                 NaN   \n",
      "\n",
      "                                   taxonremarks scientificnameid  \\\n",
      "153635    Subarctic & Temp. Northern Hemisphere     ipni:20544-2   \n",
      "1044499  Temp. Eurasia to Indo-China, N. Africa  ipni:77179623-1   \n",
      "\n",
      "                                                                                                                              dynamicproperties  \\\n",
      "153635   {\"powoid\":\"20544-2\",\"lifeform\":\"perennial\",\"climate\":\"subalpine or subarctic\",\"homotypicsynonym\":\"\",\"hybridformula\":\"\",\"reviewed\":\"N\"}   \n",
      "1044499            {\"powoid\":\"77179623-1\",\"lifeform\":\"perennial\",\"climate\":\"temperate\",\"homotypicsynonym\":\"\",\"hybridformula\":\"\",\"reviewed\":\"N\"}   \n",
      "\n",
      "                                                                    references  \\\n",
      "153635      https://powo.science.kew.org/taxon/urn:lsid:ipni.org:names:20544-2   \n",
      "1044499  https://powo.science.kew.org/taxon/urn:lsid:ipni.org:names:77179623-1   \n",
      "\n",
      "            coreid    locality establishmentmeans  \n",
      "153635   3107814.0  Washington                NaN  \n",
      "1044499  3108899.0  Washington         introduced  \n"
     ]
    }
   ],
   "source": [
    "dft = dftaxon[\n",
    "    (dftaxon['taxonid'] == dftaxon['acceptednameusageid'])\n",
    "    | (dftaxon['taxonomicstatus'] == 'Synonym')\n",
    "]\n",
    "dfd = dfdist[\n",
    "    (dfdist['locality'] == 'Washington')\n",
    "]\n",
    "\n",
    "df = pd.merge(dft, dfd[['coreid', 'locality', 'establishmentmeans']], left_on='acceptednameusageid', right_on='coreid', how='left')\n",
    "df = df[df['locality'] == 'Washington']\n",
    "\n",
    "dfsyn = df[df['taxonomicstatus'] == 'Synonym']\n",
    "\n",
    "dfg = dfsyn.groupby('scientificname')['establishmentmeans'].agg(set).reset_index()\n",
    "dfg['count'] = dfg['establishmentmeans'].apply(lambda x: len(x))\n",
    "\n",
    "dfdem = dfg[dfg['count'] > 1]\n",
    "\n",
    "print(len(dfdem))\n",
    "print()\n",
    "print(dfdem[:10])\n",
    "print()\n",
    "print('--------------- Synonym Records ---------------')\n",
    "print(dfsyn[dfsyn['scientificname'] == 'Artemisia violacea'])\n",
    "print()\n",
    "print('--------------- Accepted Records ---------------')\n",
    "print(df[df['taxonid'].isin(dfsyn[dfsyn['scientificname'] == 'Artemisia violacea']['acceptednameusageid'])])"
   ]
  },
  {
   "cell_type": "markdown",
   "id": "9768c033-7fe6-49a7-8ecb-b2f675bb2621",
   "metadata": {},
   "source": [
    "We can see that there are 24 synonyms which have conflicting establishmentmeans for our locality."
   ]
  },
  {
   "cell_type": "markdown",
   "id": "d7d5f56a-48cd-4fde-a11c-d9febf7bbde9",
   "metadata": {},
   "source": [
    "**How many different taxonomy records are there for Washington?**"
   ]
  },
  {
   "cell_type": "code",
   "execution_count": 19,
   "id": "a5e52cd0-1a59-4a43-bae8-37cb743fce6c",
   "metadata": {},
   "outputs": [
    {
     "name": "stdout",
     "output_type": "stream",
     "text": [
      "36181\n"
     ]
    }
   ],
   "source": [
    "dft = dftaxon[\n",
    "    (dftaxon['taxonid'] == dftaxon['acceptednameusageid'])\n",
    "    | (dftaxon['taxonomicstatus'] == 'Synonym')\n",
    "]\n",
    "dfd = dfdist[\n",
    "    (dfdist['locality'] == 'Washington')\n",
    "]\n",
    "\n",
    "df = pd.merge(dft, dfd[['coreid', 'locality', 'establishmentmeans']], left_on='acceptednameusageid', right_on='coreid', how='left')\n",
    "\n",
    "print(len(df[\n",
    "    (df['locality'] == 'Washington')\n",
    "    & (df['establishmentmeans'] != 'introduced')\n",
    "]))"
   ]
  },
  {
   "cell_type": "code",
   "execution_count": null,
   "id": "d1746142-26f8-4e5b-a267-cd95ca6e2075",
   "metadata": {},
   "outputs": [],
   "source": []
  }
 ],
 "metadata": {
  "kernelspec": {
   "display_name": "Python 3 (ipykernel)",
   "language": "python",
   "name": "python3"
  },
  "language_info": {
   "codemirror_mode": {
    "name": "ipython",
    "version": 3
   },
   "file_extension": ".py",
   "mimetype": "text/x-python",
   "name": "python",
   "nbconvert_exporter": "python",
   "pygments_lexer": "ipython3",
   "version": "3.11.2"
  }
 },
 "nbformat": 4,
 "nbformat_minor": 5
}
